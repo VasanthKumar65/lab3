{
 "cells": [
  {
   "cell_type": "markdown",
   "id": "fb08153f-f704-4a26-933a-aab992709ead",
   "metadata": {},
   "source": []
  },
  {
   "cell_type": "code",
   "execution_count": null,
   "id": "0ceff525-ae59-4a5a-921e-29ef36119fb4",
   "metadata": {},
   "outputs": [],
   "source": [
    "#A1\n",
    "import numpy as np\n",
    "from sklearn.datasets import load_iris\n",
    "\n",
    "iris = load_iris()\n",
    "X = iris.data\n",
    "y = iris.target\n",
    "\n",
    "mask = y < 2\n",
    "X = X[mask]\n",
    "y = y[mask]\n",
    "\n",
    "X_class0 = X[y == 0]\n",
    "X_class1 = X[y == 1]\n",
    "\n",
    "centroid0 = X_class0.mean(axis=0)\n",
    "centroid1 = X_class1.mean(axis=0)\n",
    "\n",
    "spread0 = X_class0.std(axis=0)\n",
    "spread1 = X_class1.std(axis=0)\n",
    "\n",
    "distance = np.linalg.norm(centroid0 - centroid1)\n",
    "\n",
    "print(\"Centroid Class 0:\", centroid0)\n",
    "print(\"Centroid Class 1:\", centroid1)\n",
    "print(\"Spread Class 0:\", spread0)\n",
    "print(\"Spread Class 1:\", spread1)\n",
    "print(\"Distance between centroids:\", distance)\n"
   ]
  },
  {
   "cell_type": "code",
   "execution_count": null,
   "id": "d5f9d745-9b57-4c84-86ff-9ec4cc2cdf4a",
   "metadata": {},
   "outputs": [],
   "source": [
    "#A2\n",
    "from sklearn.metrics import confusion_matrix, classification_report\n",
    "\n",
    "y_pred = knn.predict(X_test)\n",
    "\n",
    "conf_matrix = confusion_matrix(y_test, y_pred)\n",
    "print(\"Confusion Matrix:\\n\", conf_matrix)\n",
    "\n",
    "print(\"Classification Report:\\n\", classification_report(y_test, y_pred, target_names=iris.target_names[:2]))\n"
   ]
  },
  {
   "cell_type": "code",
   "execution_count": null,
   "id": "8befa79b-e3d7-41ad-99db-f4f382970288",
   "metadata": {},
   "outputs": [],
   "source": [
    "#A3\n",
    "from scipy.spatial import distance\n",
    "\n",
    "vec1 = X[0]\n",
    "vec2 = X[1]\n",
    "\n",
    "minkowski_distances = []\n",
    "r_values = list(range(1, 11))\n",
    "\n",
    "for r in r_values:\n",
    "    dist = distance.minkowski(vec1, vec2, r)\n",
    "    minkowski_distances.append(dist)\n",
    "\n",
    "plt.plot(r_values, minkowski_distances, marker='o')\n",
    "plt.title(\"Minkowski Distance (r=1 to 10)\")\n",
    "plt.xlabel(\"r value\")\n",
    "plt.ylabel(\"Distance\")\n",
    "plt.grid(True)\n",
    "plt.show()\n",
    "\n"
   ]
  },
  {
   "cell_type": "code",
   "execution_count": null,
   "id": "7dd81785-a864-4299-b3be-299884e13fc2",
   "metadata": {},
   "outputs": [],
   "source": [
    "#A4\n",
    "from sklearn.model_selection import train_test_split\n",
    "\n",
    "]X_train, X_test, y_train, y_test = train_test_split(X, y, test_size=0.3, random_state=42)\n",
    "\n",
    "print(\"Train shape:\", X_train.shape)\n",
    "print(\"Test shape:\", X_test.shape)"
   ]
  },
  {
   "cell_type": "code",
   "execution_count": null,
   "id": "83905c3b-288c-4aa2-889e-1da3f2e13e72",
   "metadata": {},
   "outputs": [],
   "source": [
    "#A5\n",
    "from sklearn.neighbors import KNeighborsClassifier\n",
    "\n",
    "knn = KNeighborsClassifier(n_neighbors=3)\n",
    "knn.fit(X_train, y_train)\n"
   ]
  },
  {
   "cell_type": "code",
   "execution_count": null,
   "id": "7b8b0eca-3e5d-4391-9188-5656f5647be9",
   "metadata": {},
   "outputs": [],
   "source": [
    "#A6\n",
    "accuracy = knn.score(X_test, y_test)\n",
    "print(\"kNN Accuracy on test set (k=3):\", accuracy)\n"
   ]
  },
  {
   "cell_type": "code",
   "execution_count": null,
   "id": "6da20803-6c2d-44e5-997c-d8f763697773",
   "metadata": {},
   "outputs": [],
   "source": [
    "#A7\n",
    "predictions = knn.predict(X_test)\n",
    "print(\"Predictions on test set:\", predictions)\n",
    "\n",
    "sample = X_test[0].reshape(1, -1)\n",
    "pred = knn.predict(sample)\n",
    "print(\"Prediction for sample vector:\", pred)\n"
   ]
  },
  {
   "cell_type": "code",
   "execution_count": null,
   "id": "2fe11d4f-9c18-4308-b5d3-5df8e68eb982",
   "metadata": {},
   "outputs": [],
   "source": [
    "#A8\n",
    "accuracies = []\n",
    "k_values = list(range(1, 12))\n",
    "\n",
    "for k in k_values:\n",
    "    model = KNeighborsClassifier(n_neighbors=k)\n",
    "    model.fit(X_train, y_train)\n",
    "    acc = model.score(X_test, y_test)\n",
    "    accuracies.append(acc)\n",
    "\n",
    "# Plot\n",
    "plt.plot(k_values, accuracies, marker='o')\n",
    "plt.title(\"Accuracy vs k in kNN\")\n",
    "plt.xlabel(\"k value\")\n",
    "plt.ylabel(\"Accuracy\")\n",
    "plt.grid(True)\n",
    "plt.show()\n",
    "\n"
   ]
  },
  {
   "cell_type": "code",
   "execution_count": null,
   "id": "f95caaac-5897-4e58-ac7d-bee10dfb3175",
   "metadata": {},
   "outputs": [],
   "source": [
    "#A9\n",
    "from sklearn.metrics import confusion_matrix, classification_report\n",
    "\n",
    "y_pred = knn.predict(X_test)\n",
    "\n",
    "conf_matrix = confusion_matrix(y_test, y_pred)\n",
    "print(\"Confusion Matrix:\\n\", conf_matrix)\n",
    "\n",
    "print(\"Classification Report:\\n\", classification_report(y_test, y_pred, target_names=iris.target_names[:2]))\n"
   ]
  }
 ],
 "metadata": {
  "kernelspec": {
   "display_name": "Python [conda env:notebook]",
   "language": "python",
   "name": "conda-env-notebook-py"
  },
  "language_info": {
   "codemirror_mode": {
    "name": "ipython",
    "version": 3
   },
   "file_extension": ".py",
   "mimetype": "text/x-python",
   "name": "python",
   "nbconvert_exporter": "python",
   "pygments_lexer": "ipython3",
   "version": "3.12.11"
  }
 },
 "nbformat": 4,
 "nbformat_minor": 5
}
